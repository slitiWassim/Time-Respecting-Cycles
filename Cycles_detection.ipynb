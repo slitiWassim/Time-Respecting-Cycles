{
 "cells": [
  {
   "cell_type": "markdown",
   "id": "c4e1a5a6",
   "metadata": {},
   "source": [
    "## Import test sample data and create a  Raphtory graph"
   ]
  },
  {
   "cell_type": "code",
   "execution_count": 1,
   "id": "9536c553",
   "metadata": {},
   "outputs": [],
   "source": [
    "import os \n",
    "import sys\n",
    "import time\n",
    "\n",
    "import pandas as pd\n",
    "import numpy as np \n",
    "\n",
    "from raphtory import algorithms as rp\n",
    "from raphtory import Graph\n",
    "\n",
    "\n",
    "from collections import defaultdict\n",
    "from bisect import bisect_right"
   ]
  },
  {
   "cell_type": "code",
   "execution_count": null,
   "id": "f01db47f",
   "metadata": {},
   "outputs": [],
   "source": [
    "##### if you want to download all the NFT trasactions dataframe \n",
    "\n",
    "# chmod u+x scripts/download_data.sh\n",
    "# bash  scripts/download_data.sh\n",
    "#  file : data/transaction_file.gzip"
   ]
  },
  {
   "cell_type": "code",
   "execution_count": 3,
   "id": "72fe41d0",
   "metadata": {},
   "outputs": [],
   "source": [
    "# Read transactions dataframe\n",
    "df =pd.read_parquet('test_sample.gzip')"
   ]
  },
  {
   "cell_type": "code",
   "execution_count": 4,
   "id": "8545caea",
   "metadata": {},
   "outputs": [
    {
     "data": {
      "application/vnd.jupyter.widget-view+json": {
       "model_id": "92919e8a6a624f6a96bb2745a1ba36c7",
       "version_major": 2,
       "version_minor": 0
      },
      "text/plain": [
       "HBox(children=(HTML(value=''), IntProgress(value=0, max=380), HTML(value='')))"
      ]
     },
     "metadata": {},
     "output_type": "display_data"
    }
   ],
   "source": [
    "## Create Raphtory Graph from transaction df\n",
    "g = Graph()\n",
    "g.load_edges_from_pandas(df,\n",
    "                         src='seller_num',\n",
    "                         dst='buyer_num',  \n",
    "                         time='closing_date', \n",
    "                         properties=['nft_num','price_usd'] ,\n",
    "                         layer_col='chain')"
   ]
  },
  {
   "cell_type": "code",
   "execution_count": 8,
   "id": "9ba259c6",
   "metadata": {},
   "outputs": [
    {
     "name": "stdout",
     "output_type": "stream",
     "text": [
      "Execution Time: 18.6004638671875 ms\n"
     ]
    }
   ],
   "source": [
    "from cycles_detection import time_respecting_cycles\n",
    "\n",
    "MAX_DURATION = 36e5 * 24 ## 1 day\n",
    "MAX_LENGTH = 25 \n",
    "\n",
    "s = time.time()\n",
    "\n",
    "cycles = list(time_respecting_cycles(rolling_g=g,max_length=100,max_duration=36e5 * 24))\n",
    "\n",
    "print(f\"Execution Time: {(time.time() - s) * 1e3} ms\")\n",
    "\n"
   ]
  },
  {
   "cell_type": "code",
   "execution_count": 16,
   "id": "a3004d54",
   "metadata": {},
   "outputs": [
    {
     "name": "stdout",
     "output_type": "stream",
     "text": [
      "Cycle Nodes : ['w_342620', 'w_689659', 'w_342620']\n",
      "Cycle Edges Time : [1685892937000, 1685896473000]\n",
      "Cycle Duration : 0.9822222222222222 Hours\n"
     ]
    }
   ],
   "source": [
    "print(f\"Cycle Nodes : {cycles[0][0]}\")\n",
    "print(f\"Cycle Edges Time : {cycles[0][1]}\")\n",
    "duration = (cycles[0][1][-1]-cycles[0][1][0]) / 36e5\n",
    "print(f\"Cycle Duration : {duration} Hours\")"
   ]
  },
  {
   "cell_type": "code",
   "execution_count": null,
   "id": "adae7b6d",
   "metadata": {},
   "outputs": [],
   "source": []
  }
 ],
 "metadata": {
  "kernelspec": {
   "display_name": "wassim-env",
   "language": "python",
   "name": "python3"
  },
  "language_info": {
   "codemirror_mode": {
    "name": "ipython",
    "version": 3
   },
   "file_extension": ".py",
   "mimetype": "text/x-python",
   "name": "python",
   "nbconvert_exporter": "python",
   "pygments_lexer": "ipython3",
   "version": "3.13.5"
  }
 },
 "nbformat": 4,
 "nbformat_minor": 5
}
