{
 "cells": [
  {
   "cell_type": "markdown",
   "id": "c4e1a5a6",
   "metadata": {},
   "source": [
    "## Import test sample data and create a  Raphtory graph"
   ]
  },
  {
   "cell_type": "code",
   "execution_count": null,
   "id": "9536c553",
   "metadata": {
    "vscode": {
     "languageId": "plaintext"
    }
   },
   "outputs": [],
   "source": [
    "import os \n",
    "import sys\n",
    "import time\n",
    "\n",
    "import pandas as pd\n",
    "import numpy as np \n",
    "\n",
    "from raphtory import algorithms as rp\n",
    "from raphtory import Graph\n",
    "\n",
    "\n",
    "from collections import defaultdict\n",
    "from bisect import bisect_right\n",
    "\n",
    "from collections import defaultdict\n",
    "from bisect import bisect_right"
   ]
  },
  {
   "cell_type": "code",
   "execution_count": null,
   "id": "9ba259c6",
   "metadata": {
    "vscode": {
     "languageId": "plaintext"
    }
   },
   "outputs": [],
   "source": [
    "from cycles_detection import \n",
    "\n",
    "MAX_DURATION = \n",
    "MAX_LENGTH =\n",
    "\n",
    "s = time.time()\n",
    "\n",
    "len(list(time_respecting_cycles(rolling_g=g,max_length=100,max_duration=36e5 * 24)))\n",
    "\n",
    "print((time.time() - s) * 1e3, \"ms\")\n",
    "\n"
   ]
  }
 ],
 "metadata": {
  "language_info": {
   "name": "python"
  }
 },
 "nbformat": 4,
 "nbformat_minor": 5
}
